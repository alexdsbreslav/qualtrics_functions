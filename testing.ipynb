{
 "cells": [
  {
   "cell_type": "code",
   "execution_count": 1,
   "id": "91262205-d3bc-4016-82f1-3dd1388d1471",
   "metadata": {},
   "outputs": [],
   "source": [
    "import json\n",
    "import requests\n",
    "import time\n",
    "import multiprocessing as mp\n",
    "from qualtrics_functions import *\n",
    "import pandas as pd\n",
    "import numpy as np\n",
    "from io import StringIO\n",
    "import base64\n",
    "from markdown import markdown\n",
    "from datetime import datetime"
   ]
  },
  {
   "cell_type": "code",
   "execution_count": 2,
   "id": "4e4dd0a5-e22e-4948-8bb7-d38172b158a0",
   "metadata": {},
   "outputs": [],
   "source": [
    "# ---- create qualtrics IDs\n",
    "qualtrics_ids = create_qualtrics_ids(data_center = 'DATA CENTER',\n",
    "                                     api_token = 'API TOKEN')\n",
    "\n",
    "# ---- get \"user data\"\n",
    "user_data = pd.read_excel('user_data.xlsx', engine='openpyxl')"
   ]
  },
  {
   "cell_type": "code",
   "execution_count": 3,
   "id": "b230d6c2-3e19-464c-8375-b6153c26d416",
   "metadata": {},
   "outputs": [
    {
     "name": "stdout",
     "output_type": "stream",
     "text": [
      "retrieved \"recruiting_built_from_api\" (id = SV_246nbvy1UoYBUh0)\n",
      "survey SV_246nbvy1UoYBUh0 deleted\n"
     ]
    }
   ],
   "source": [
    "delete_survey(qualtrics_ids, survey = get_most_recent_survey(qualtrics_ids))"
   ]
  },
  {
   "cell_type": "code",
   "execution_count": 4,
   "id": "2d85db35-31ad-4811-b2c9-2b6f89182d64",
   "metadata": {
    "tags": []
   },
   "outputs": [
    {
     "name": "stdout",
     "output_type": "stream",
     "text": [
      "Embedded data fields added to recruiting_built_from_api\n"
     ]
    }
   ],
   "source": [
    "# --------------------------------------------------------------------------------\n",
    "# ---- create survey on Qualtrics ------------------------------------------------\n",
    "# --------------------------------------------------------------------------------\n",
    "survey = create_survey(qualtrics_ids, survey_name = 'recruiting_built_from_api')\n",
    "\n",
    "# --------------------------------------------------------------------------------\n",
    "# ---- create survey questions ---------------------------------------------------\n",
    "# --------------------------------------------------------------------------------\n",
    "survey_q = []\n",
    "\n",
    "# ---- welcome\n",
    "survey_q.append(\n",
    "create_text_block(question_number = 1, \n",
    "                  question_text = markdown('''Thank you so much for participating in our research.  \n",
    "                  This survey will take about two minutes of your time.  \n",
    "                  If you are eligible to take part in our study, our team will reach out shortly.'''),\n",
    "                  question_description = 'welcome')\n",
    ")\n",
    "\n",
    "# ---- satisfied\n",
    "survey_q.append(\n",
    "    create_multiple_choice(question_number = 2, \n",
    "                           question_text = markdown('''How satisfied are you with Spotify?'''),\n",
    "                           question_description = 'satisfaction',\n",
    "                           values = [-2,-1,0,1,2], \n",
    "                           labels = ['very_dis', 'some_dis', 'neither', 'some_satis', 'very_satis'], \n",
    "                           display_text = [markdown(i) for i in ['Very dissatisfied',\n",
    "                                                                 'Somewhat dissatisfied',\n",
    "                                                                 'Neither satisfied or dissatisfied',\n",
    "                                                                 'Somewhat satisfied',\n",
    "                                                                 'Very satisfied']],\n",
    "                           force_response = False,\n",
    "                           multiple_answer = False, \n",
    "                           align = 'vertical')\n",
    ")\n",
    "\n",
    "# ---- devices\n",
    "survey_q.append(\n",
    "    create_multiple_choice(question_number = 3,\n",
    "                           question_text = markdown('''In the past week, which device(s) were you using?  \n",
    "                           Please select all that apply.'''),\n",
    "                           question_description = 'devices',\n",
    "                           values = None, \n",
    "                           labels = ['mobile', 'tablet', 'computer', 'game_console', 'tv', 'car', 'smart_speaker', 'other'], \n",
    "                           display_text = [markdown(i) for i in ['Mobile Phone', 'Tablet', 'Computer', \n",
    "                                                                 'Game console', 'TV', 'Car', \n",
    "                                                                 'Smart Speaker (e.g., Amazon Echo, Google Home)',\n",
    "                                                                 'Other (please specify)']],\n",
    "                           force_response = False,\n",
    "                           multiple_answer = True, \n",
    "                           align = 'column')\n",
    ")\n",
    "\n",
    "# ---- age\n",
    "survey_q.append(\n",
    "    create_multiple_choice(question_number = 4, \n",
    "                           question_text = markdown('''How old are you?'''),\n",
    "                           question_description = 'age',\n",
    "                           values = [17,18,25,30,35,40,45,50,56], \n",
    "                           labels = ['under_18','18_24','25_29','30_34','35_39','40_44','45_49','50_55','55_plus'], \n",
    "                           display_text = [markdown(i) for i in ['**Under 18** years old', \n",
    "                                                                 '**18-24** years old', \n",
    "                                                                 '**25-29** years old', \n",
    "                                                                 '**30-34** years old', \n",
    "                                                                 '**35-39** years old', \n",
    "                                                                 '**40-44** years old', \n",
    "                                                                 '**45-49** years old', \n",
    "                                                                 '**50-55** years old', \n",
    "                                                                 '**55+** years old']], \n",
    "                           force_response = True,\n",
    "                           multiple_answer = False, \n",
    "                           align = 'vertical') # vertical, horizontal, column, dropdown\n",
    ")\n",
    "\n",
    "# ---- employment\n",
    "survey_q.append(\n",
    "    create_multiple_choice(question_number = 5, \n",
    "                           question_text = markdown('''What is your current employment status?'''),\n",
    "                           question_description = 'employment',\n",
    "                           values = None, \n",
    "                           labels = ['student', 'stay_at_home', 'unemployed_retired',\n",
    "                                     'self_consultant', 'self_owner',\n",
    "                                     'part_time', 'full_time'], \n",
    "                           display_text = [markdown(i) for i in ['Studying full or part time', 'Stay-at-home parent/guardian', 'Unemployed/Retired',\n",
    "                                                                 'Self-employed - consultant/freelancer', 'Self-employed - run my own business/company',\n",
    "                                                                 'Part-time employment', 'Full-time employment']], \n",
    "                           force_response = False,\n",
    "                           multiple_answer = False, \n",
    "                           align = 'dropdown') # vertical, horizontal, column, dropdown\n",
    ")\n",
    "\n",
    "# ---- frustration\n",
    "survey_q.append(\n",
    "    create_text_entry(question_number = 6, \n",
    "                      question_text = markdown('''When you use Spotify, what do you find frustrating?'''),\n",
    "                      question_description = 'frustrating_open',\n",
    "                      force_response = False)\n",
    ")\n",
    "\n",
    "# --------------------------------------------------------------------------------\n",
    "# ---- post questions to survey --------------------------------------------------\n",
    "# --------------------------------------------------------------------------------\n",
    "for q in survey_q:\n",
    "    post_questions_to_survey(qualtrics_ids, survey = survey, question = q, block_id = None)\n",
    "    \n",
    "# pool = mp.Pool()\n",
    "# pool.starmap(post_questions_to_survey, [(qualtrics_ids, survey, q, None) for q in survey_q])\n",
    "    \n",
    "# --------------------------------------------------------------------------------\n",
    "# ---- add embedded data fields --------------------------------------------------\n",
    "# --------------------------------------------------------------------------------\n",
    "add_embedded_data_fields_from_table(qualtrics_ids,\n",
    "                                    dataframe = user_data.loc[:,'market':],\n",
    "                                    survey = survey)"
   ]
  },
  {
   "cell_type": "code",
   "execution_count": 5,
   "id": "4bce755c-a784-4d7a-8670-f8d184ae11fa",
   "metadata": {},
   "outputs": [],
   "source": [
    "response = json.loads(requests.get(\n",
    "        'https://{}/API/v3//survey-definitions/{}'.format(\n",
    "            qualtrics_ids['data_center'], survey['id']\n",
    "            ),\n",
    "        headers={\n",
    "            'x-api-token': qualtrics_ids['api_token'],\n",
    "            'content-type': 'application/json'\n",
    "            }\n",
    "        ).text)"
   ]
  },
  {
   "cell_type": "code",
   "execution_count": 6,
   "id": "e089a766-3ba8-43c8-b1c0-e46a521545f9",
   "metadata": {},
   "outputs": [
    {
     "data": {
      "text/plain": [
       "{'QuestionID': 'QID1',\n",
       " 'DataExportTag': 'Q3',\n",
       " 'QuestionText': '<p>In the past week, which device(s) were you using?<br />\\n                           Please select all that apply.</p>',\n",
       " 'QuestionDescription': 'devices',\n",
       " 'QuestionType': 'MC',\n",
       " 'Selector': 'MACOL',\n",
       " 'Choices': {'1': {'Display': '<p>Mobile Phone</p>'},\n",
       "  '2': {'Display': '<p>Tablet</p>'},\n",
       "  '3': {'Display': '<p>Computer</p>'},\n",
       "  '4': {'Display': '<p>Game console</p>'},\n",
       "  '5': {'Display': '<p>TV</p>'},\n",
       "  '6': {'Display': '<p>Car</p>'},\n",
       "  '7': {'Display': '<p>Smart Speaker (e.g., Amazon Echo, Google Home)</p>'},\n",
       "  '8': {'Display': '<p>Other (please specify)</p>', 'TextEntry': 'true'}},\n",
       " 'ChoiceOrder': [1, 2, 3, 4, 5, 6, 7, 8],\n",
       " 'VariableNaming': {'1': 'mobile',\n",
       "  '2': 'tablet',\n",
       "  '3': 'computer',\n",
       "  '4': 'game_console',\n",
       "  '5': 'tv',\n",
       "  '6': 'car',\n",
       "  '7': 'smart_speaker',\n",
       "  '8': 'other'},\n",
       " 'Language': [],\n",
       " 'Configuration': {'QuestionDescriptionOption': 'SpecifyLabel'},\n",
       " 'QuestionText_Unsafe': '<p>In the past week, which device(s) were you using?<br />\\n                           Please select all that apply.</p>'}"
      ]
     },
     "execution_count": 6,
     "metadata": {},
     "output_type": "execute_result"
    }
   ],
   "source": [
    "response['result']['Questions']['QID1']"
   ]
  },
  {
   "cell_type": "markdown",
   "id": "ea461060-c4e4-4079-8b16-5f8ef52b891b",
   "metadata": {},
   "source": [
    "---\n",
    "---\n",
    "---\n",
    "\n",
    "# Create the unique survey links\n",
    "When a person opens the survey using their unique link, their user data gets embedded."
   ]
  },
  {
   "cell_type": "code",
   "execution_count": 66,
   "id": "7a4fc543-bbbd-484e-89cd-b0a673552211",
   "metadata": {},
   "outputs": [
    {
     "data": {
      "text/html": [
       "<div>\n",
       "<style scoped>\n",
       "    .dataframe tbody tr th:only-of-type {\n",
       "        vertical-align: middle;\n",
       "    }\n",
       "\n",
       "    .dataframe tbody tr th {\n",
       "        vertical-align: top;\n",
       "    }\n",
       "\n",
       "    .dataframe thead th {\n",
       "        text-align: right;\n",
       "    }\n",
       "</style>\n",
       "<table border=\"1\" class=\"dataframe\">\n",
       "  <thead>\n",
       "    <tr style=\"text-align: right;\">\n",
       "      <th></th>\n",
       "      <th>unique_survey_link</th>\n",
       "    </tr>\n",
       "    <tr>\n",
       "      <th>email</th>\n",
       "      <th></th>\n",
       "    </tr>\n",
       "  </thead>\n",
       "  <tbody>\n",
       "    <tr>\n",
       "      <th>example_email0@outlook.com</th>\n",
       "      <td>https://duke.ca1.qualtrics.com/jfe/form/SV_2h7...</td>\n",
       "    </tr>\n",
       "    <tr>\n",
       "      <th>example_email1@icloud.com</th>\n",
       "      <td>https://duke.ca1.qualtrics.com/jfe/form/SV_2h7...</td>\n",
       "    </tr>\n",
       "    <tr>\n",
       "      <th>example_email2@outlook.com</th>\n",
       "      <td>https://duke.ca1.qualtrics.com/jfe/form/SV_2h7...</td>\n",
       "    </tr>\n",
       "    <tr>\n",
       "      <th>example_email3@icloud.com</th>\n",
       "      <td>https://duke.ca1.qualtrics.com/jfe/form/SV_2h7...</td>\n",
       "    </tr>\n",
       "    <tr>\n",
       "      <th>example_email4@gmail.com</th>\n",
       "      <td>https://duke.ca1.qualtrics.com/jfe/form/SV_2h7...</td>\n",
       "    </tr>\n",
       "  </tbody>\n",
       "</table>\n",
       "</div>"
      ],
      "text/plain": [
       "                                                           unique_survey_link\n",
       "email                                                                        \n",
       "example_email0@outlook.com  https://duke.ca1.qualtrics.com/jfe/form/SV_2h7...\n",
       "example_email1@icloud.com   https://duke.ca1.qualtrics.com/jfe/form/SV_2h7...\n",
       "example_email2@outlook.com  https://duke.ca1.qualtrics.com/jfe/form/SV_2h7...\n",
       "example_email3@icloud.com   https://duke.ca1.qualtrics.com/jfe/form/SV_2h7...\n",
       "example_email4@gmail.com    https://duke.ca1.qualtrics.com/jfe/form/SV_2h7..."
      ]
     },
     "execution_count": 66,
     "metadata": {},
     "output_type": "execute_result"
    }
   ],
   "source": [
    "# create unique survey links; when a user opens the survey link, it embeds their user data into the survey response\n",
    "unique_links = []\n",
    "for row in user_data.index:\n",
    "    # ---- data needs to be base64 encoded\n",
    "    encoded_user_data = base64.b64encode(bytes(user_data.loc[row].to_json(), 'utf-8')).decode('utf-8')\n",
    "    # ---- encoded data gets appended to the end of the survey link using Qualtric's Q_EED function\n",
    "    unique_links.append('https://{}/jfe/form/{}?Q_EED={}'.format(data_center, recruiting_survey, encoded_user_data))\n",
    "user_data['unique_survey_link'] = unique_links\n",
    "\n",
    "# ---- export survey distribution list\n",
    "email_distribution_list = user_data.set_index('email')[['unique_survey_link']]\n",
    "email_distribution_list.to_excel('recruiting_survey_distribution.xlsx')\n",
    "\n",
    "# ---- show top 5 lines of email distribution list\n",
    "email_distribution_list.head()"
   ]
  },
  {
   "cell_type": "markdown",
   "id": "dc1b65e5-a825-44f3-a994-24081d356579",
   "metadata": {},
   "source": [
    "# Download Data"
   ]
  },
  {
   "cell_type": "code",
   "execution_count": 68,
   "id": "6fc02e1e-f1b9-4fe6-9ab1-16387e158742",
   "metadata": {},
   "outputs": [
    {
     "name": "stdout",
     "output_type": "stream",
     "text": [
      "response objects pulled...\n",
      "column dictionary created...\n",
      "survey responses formatted...\n"
     ]
    }
   ],
   "source": [
    "data = download_data(recruiting_survey, data_center, api_token)"
   ]
  },
  {
   "cell_type": "markdown",
   "id": "a5b49f6f-a3f3-4c88-a02e-a32d08953873",
   "metadata": {},
   "source": [
    "# Mailing List\n",
    "Body can also include `firstName`, `lastName`, `phone`, `language` etc."
   ]
  },
  {
   "cell_type": "code",
   "execution_count": 74,
   "id": "155f561b-d03c-44a8-bb1a-03547debad16",
   "metadata": {},
   "outputs": [],
   "source": [
    "# ---- get values from recruiting survey\n",
    "mailing_list = data['values']\n",
    "\n",
    "# ---- name of the recruiting survey\n",
    "survey_name = 'recruiting_survey_id'\n",
    "\n",
    "# ---- columns that we want to embed in the mailing list\n",
    "columns_to_embed = ['device_type', 'account_type', 'searches_in_app_30_days']\n",
    "\n",
    "# ---- create an embeddedData column to match format required by Qualtrics\n",
    "mailing_list = mailing_list[mailing_list.market == 'US'][['email']+columns_to_embed].reset_index().rename(columns={'index':survey_name})\n",
    "mailing_list['embeddedData'] = [json.loads(mailing_list[[survey_name] + columns_to_embed].loc[idx].to_json()) for idx in mailing_list.index]\n",
    "mailing_list = mailing_list[['email', 'embeddedData']]"
   ]
  },
  {
   "cell_type": "code",
   "execution_count": 22,
   "id": "a8d0dd24-b6cf-4773-8b02-cd2b9d7f48f6",
   "metadata": {},
   "outputs": [
    {
     "name": "stdout",
     "output_type": "stream",
     "text": [
      "mailing list created\n"
     ]
    }
   ],
   "source": [
    "response = requests.post('https://{}/API/v3/mailinglists'.format(data_center),\n",
    "                         data=pd.Series(['mailing_list', library_id, 'qualtrics_functions'], index=['name', 'libraryId', 'category']).to_json(), \n",
    "                         headers={'x-api-token': api_token, 'content-type': 'application/json'})\n",
    "\n",
    "if pd.read_json(response.text).loc['httpStatus', 'meta'] == '200 - OK':\n",
    "    mailing_list_id = pd.read_json(response.text).loc['id', 'result']\n",
    "    print('mailing list created')\n",
    "else:\n",
    "    print('error...')\n",
    "    print(response.text)"
   ]
  },
  {
   "cell_type": "code",
   "execution_count": 77,
   "id": "e05329e3-6bd2-4b48-857e-30d1870edac2",
   "metadata": {},
   "outputs": [
    {
     "name": "stdout",
     "output_type": "stream",
     "text": [
      "example_email1@icloud.com added to mailing list\n",
      "example_email2@outlook.com added to mailing list\n",
      "example_email4@gmail.com added to mailing list\n",
      "example_email5@gmail.com added to mailing list\n",
      "example_email6@gmail.com added to mailing list\n",
      "example_email8@icloud.com added to mailing list\n",
      "example_email9@icloud.com added to mailing list\n"
     ]
    }
   ],
   "source": [
    "for idx in mailing_list.index:\n",
    "    response = requests.post('https://{}/API/v3/mailinglists/{}/contacts'.format(data_center, mailing_list_id),\n",
    "                             data=mailing_list.loc[idx].to_json(), \n",
    "                             headers={'x-api-token': api_token, 'content-type': 'application/json'})\n",
    "    \n",
    "    # ---- reporting on whether it worked\n",
    "    if pd.read_json(response.text).loc['httpStatus', 'meta'] == '200 - OK':\n",
    "        print('{} added to mailing list'.format(mailing_list.loc[idx, 'email']))\n",
    "    else:\n",
    "        print('error... adding {} to mailing list'.format(mailing_list.loc[idx, 'email']))\n",
    "        print(response.text)"
   ]
  }
 ],
 "metadata": {
  "kernelspec": {
   "display_name": "Python [conda env:may2021]",
   "language": "python",
   "name": "conda-env-may2021-py"
  },
  "language_info": {
   "codemirror_mode": {
    "name": "ipython",
    "version": 3
   },
   "file_extension": ".py",
   "mimetype": "text/x-python",
   "name": "python",
   "nbconvert_exporter": "python",
   "pygments_lexer": "ipython3",
   "version": "3.9.5"
  }
 },
 "nbformat": 4,
 "nbformat_minor": 5
}
